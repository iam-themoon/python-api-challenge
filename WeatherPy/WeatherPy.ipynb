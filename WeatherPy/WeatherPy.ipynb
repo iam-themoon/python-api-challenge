{
 "cells": [
  {
   "cell_type": "markdown",
   "metadata": {},
   "source": [
    "# WeatherPy\n",
    "----\n",
    "\n",
    "#### Note\n",
    "* Instructions have been included for each segment. You do not have to follow them exactly, but they are included to help you think through the steps."
   ]
  },
  {
   "cell_type": "markdown",
   "metadata": {},
   "source": [
    "## Observations:\n",
    "\n",
    "1) The cloudiness scatter plots show that there are alternating clumps of cloudiness as you move away from the equator. It is highly concentrated just south of the equator for several lat points, and a little north too, but then it drops significantly. North, it drops much quicker and holds. South, it takes a while, but does show a drop. This is probably due to the milder, warmer temperatures. And, for the southern hemisphere, the amazon jungle is only 2 points below the equator, so I imagine it contributes to the cloudiness.\n",
    "\n",
    "2) The wind speed plots show that wind speeds are mostly 10mph or less. However, there is a higher concentration of high wind speeds the further north you go. I am not sure what would cause this - jetstreams, less civilization/buildings, or perhaps lower temperatures? It could be valuable to research futher.\n",
    "\n",
    "3) The strongest corellation of all graphs plotted was the correlation of latitude and temperature. There is a strong negative correlation between lat and temp in the northern hemisphere - temperature quickly drops the further north you go. Interestingly, the correlation in the southern hemisphere is only moderate. Although, there seem to be less temperature readings for the southern hemisphere."
   ]
  },
  {
   "cell_type": "code",
   "execution_count": 111,
   "metadata": {
    "scrolled": true
   },
   "outputs": [],
   "source": [
    "# Dependencies and Setup\n",
    "import matplotlib.pyplot as plt\n",
    "import pandas as pd\n",
    "import numpy as np\n",
    "import requests\n",
    "import time\n",
    "import json\n",
    "import scipy.stats as st\n",
    "from scipy.stats import linregress\n",
    "from pprint import pprint\n",
    "from datetime import datetime\n",
    "\n",
    "# Import API key\n",
    "from api_keys import weather_api_key\n",
    "\n",
    "# Incorporated citipy to determine city based on latitude and longitude\n",
    "from citipy import citipy\n",
    "\n",
    "# Output File (CSV)\n",
    "output_data_file = \"output_data/cities.csv\"\n",
    "\n",
    "# Range of latitudes and longitudes\n",
    "lat_range = (-90, 90)\n",
    "lng_range = (-180, 180)"
   ]
  },
  {
   "cell_type": "markdown",
   "metadata": {},
   "source": [
    "## Generate Cities List"
   ]
  },
  {
   "cell_type": "code",
   "execution_count": 2,
   "metadata": {},
   "outputs": [
    {
     "data": {
      "text/plain": [
       "612"
      ]
     },
     "execution_count": 2,
     "metadata": {},
     "output_type": "execute_result"
    }
   ],
   "source": [
    "# List for holding lat_lngs and cities\n",
    "lat_lngs = []\n",
    "cities = []\n",
    "\n",
    "# Create a set of random lat and lng combinations\n",
    "lats = np.random.uniform(lat_range[0], lat_range[1], size=1500)\n",
    "lngs = np.random.uniform(lng_range[0], lng_range[1], size=1500)\n",
    "lat_lngs = zip(lats, lngs)\n",
    "\n",
    "# Identify nearest city for each lat, lng combination\n",
    "for lat_lng in lat_lngs:\n",
    "    city = citipy.nearest_city(lat_lng[0], lat_lng[1]).city_name\n",
    "    \n",
    "    # If the city is unique, then add it to the cities list\n",
    "    if city not in cities:\n",
    "        cities.append(city)\n",
    "\n",
    "# Print the city count to confirm sufficient count\n",
    "len(cities)"
   ]
  },
  {
   "cell_type": "markdown",
   "metadata": {},
   "source": [
    "### Perform API Calls\n",
    "* Perform a weather check on each city using a series of successive API calls.\n",
    "* Include a print log of each city as it'sbeing processed (with the city number and city name).\n",
    "\n",
    "> **HINT:** The OpenWeatherMap API only allows 60 calls per minute under their free plan. Try using `time.sleep(60)` after each set of 50 cities to avoid API errors due to large calls."
   ]
  },
  {
   "cell_type": "code",
   "execution_count": 3,
   "metadata": {
    "scrolled": true
   },
   "outputs": [
    {
     "name": "stdout",
     "output_type": "stream",
     "text": [
      "Begin Data Retrieval\n",
      "-----------------------------\n",
      "Processing record 1 of 1 | zabol\n",
      "City not found. Skipping...\n",
      "Processing record 2 of 1 | ushuaia\n",
      "Processing record 3 of 1 | new norfolk\n",
      "Processing record 4 of 1 | tiksi\n",
      "Processing record 5 of 1 | arlit\n",
      "Processing record 6 of 1 | rikitea\n",
      "Processing record 7 of 1 | kununurra\n",
      "Processing record 8 of 1 | bud\n",
      "Processing record 9 of 1 | mataura\n",
      "Processing record 10 of 1 | ozernovskiy\n",
      "Processing record 11 of 1 | cherskiy\n",
      "Processing record 12 of 1 | yumen\n",
      "Processing record 13 of 1 | upernavik\n",
      "Processing record 14 of 1 | flinders\n",
      "Processing record 15 of 1 | alugan\n",
      "Processing record 16 of 1 | husavik\n",
      "Processing record 17 of 1 | avarua\n",
      "Processing record 18 of 1 | hermanus\n",
      "City not found. Skipping...\n",
      "Processing record 19 of 1 | khatanga\n",
      "Processing record 20 of 1 | leningradskiy\n",
      "Processing record 21 of 1 | kapaa\n",
      "Processing record 22 of 1 | saint anthony\n",
      "City not found. Skipping...\n",
      "Processing record 23 of 1 | coahuayana\n",
      "Processing record 24 of 1 | hobart\n",
      "Processing record 25 of 1 | jamestown\n",
      "Processing record 26 of 1 | barrow\n",
      "Processing record 27 of 1 | sao filipe\n",
      "Processing record 28 of 1 | geraldton\n",
      "Processing record 29 of 1 | kirillov\n",
      "Processing record 30 of 1 | tuktoyaktuk\n",
      "City not found. Skipping...\n",
      "Processing record 31 of 1 | illapel\n",
      "Processing record 32 of 1 | ancud\n",
      "Processing record 33 of 1 | saint george\n",
      "Processing record 34 of 1 | adrar\n",
      "Processing record 35 of 1 | bluff\n",
      "Processing record 36 of 1 | evensk\n",
      "Processing record 37 of 1 | havoysund\n",
      "Processing record 38 of 1 | phan thiet\n",
      "Processing record 39 of 1 | bredasdorp\n",
      "City not found. Skipping...\n",
      "City not found. Skipping...\n",
      "Processing record 40 of 1 | lebu\n",
      "Processing record 41 of 1 | yingkou\n",
      "Processing record 42 of 1 | caravelas\n",
      "City not found. Skipping...\n",
      "Processing record 43 of 1 | fortuna\n",
      "Processing record 44 of 1 | nanortalik\n",
      "Processing record 45 of 1 | dikson\n",
      "Processing record 46 of 1 | bethel\n",
      "Processing record 47 of 1 | kahului\n",
      "Processing record 48 of 1 | vaini\n",
      "Processing record 49 of 1 | matadi\n",
      "Processing record 50 of 1 | alice springs\n",
      "Processing record 0 of 2 | batagay-alyta\n",
      "Processing record 1 of 2 | samarai\n",
      "Processing record 2 of 2 | biak\n",
      "Processing record 3 of 2 | punta arenas\n",
      "Processing record 4 of 2 | pitimbu\n",
      "Processing record 5 of 2 | albany\n",
      "Processing record 6 of 2 | ponta delgada\n",
      "Processing record 7 of 2 | kiama\n",
      "Processing record 8 of 2 | oparino\n",
      "Processing record 9 of 2 | torbay\n",
      "Processing record 10 of 2 | kishi\n",
      "Processing record 11 of 2 | thompson\n",
      "Processing record 12 of 2 | linqu\n",
      "City not found. Skipping...\n",
      "Processing record 13 of 2 | provideniya\n",
      "Processing record 14 of 2 | te anau\n",
      "Processing record 15 of 2 | impfondo\n",
      "Processing record 16 of 2 | olafsvik\n",
      "Processing record 17 of 2 | san carlos de bariloche\n",
      "Processing record 18 of 2 | praia\n",
      "City not found. Skipping...\n",
      "Processing record 19 of 2 | shubarkuduk\n",
      "Processing record 20 of 2 | nome\n",
      "Processing record 21 of 2 | holbaek\n",
      "Processing record 22 of 2 | ojinaga\n",
      "Processing record 23 of 2 | bedford\n",
      "Processing record 24 of 2 | coquimbo\n",
      "Processing record 25 of 2 | puerto ayora\n",
      "Processing record 26 of 2 | qaanaaq\n",
      "Processing record 27 of 2 | butaritari\n",
      "Processing record 28 of 2 | manta\n",
      "Processing record 29 of 2 | kodiak\n",
      "Processing record 30 of 2 | pacific grove\n",
      "City not found. Skipping...\n",
      "Processing record 31 of 2 | saint-philippe\n",
      "Processing record 32 of 2 | lavrentiya\n",
      "City not found. Skipping...\n",
      "Processing record 33 of 2 | kavieng\n",
      "Processing record 34 of 2 | novikovo\n",
      "Processing record 35 of 2 | coihaique\n",
      "Processing record 36 of 2 | maragogi\n",
      "Processing record 37 of 2 | port alfred\n",
      "Processing record 38 of 2 | bilibino\n",
      "Processing record 39 of 2 | cape town\n",
      "Processing record 40 of 2 | port hardy\n",
      "Processing record 41 of 2 | atuona\n",
      "Processing record 42 of 2 | kanniyakumari\n",
      "Processing record 43 of 2 | peace river\n",
      "Processing record 44 of 2 | marawi\n",
      "Processing record 45 of 2 | matagami\n",
      "Processing record 46 of 2 | launceston\n",
      "City not found. Skipping...\n",
      "Processing record 47 of 2 | ribeira grande\n",
      "Processing record 48 of 2 | portel\n",
      "City not found. Skipping...\n",
      "Processing record 49 of 2 | bataipora\n",
      "Processing record 50 of 2 | busselton\n",
      "Processing record 0 of 3 | meulaboh\n",
      "Processing record 1 of 3 | cabadiangan\n",
      "Processing record 2 of 3 | belyy yar\n",
      "Processing record 3 of 3 | krasnoselkup\n",
      "Processing record 4 of 3 | banda aceh\n",
      "Processing record 5 of 3 | solwezi\n",
      "Processing record 6 of 3 | castro\n",
      "Processing record 7 of 3 | georgetown\n",
      "Processing record 8 of 3 | songjianghe\n",
      "Processing record 9 of 3 | cayenne\n",
      "Processing record 10 of 3 | pauini\n",
      "City not found. Skipping...\n",
      "Processing record 11 of 3 | luderitz\n",
      "Processing record 12 of 3 | mirwah\n",
      "Processing record 13 of 3 | menfi\n",
      "Processing record 14 of 3 | yueyang\n",
      "Processing record 15 of 3 | parkersburg\n",
      "Processing record 16 of 3 | ocos\n",
      "Processing record 17 of 3 | nikolskoye\n",
      "Processing record 18 of 3 | hambantota\n",
      "Processing record 19 of 3 | victoria\n",
      "Processing record 20 of 3 | cam ranh\n",
      "Processing record 21 of 3 | hilo\n",
      "Processing record 22 of 3 | isangel\n",
      "Processing record 23 of 3 | ismailia\n",
      "Processing record 24 of 3 | pevek\n",
      "Processing record 25 of 3 | bambous virieux\n",
      "Processing record 26 of 3 | kavaratti\n",
      "Processing record 27 of 3 | oak ridge\n",
      "Processing record 28 of 3 | shellbrook\n",
      "Processing record 29 of 3 | east london\n",
      "Processing record 30 of 3 | teya\n",
      "Processing record 31 of 3 | vila velha\n",
      "Processing record 32 of 3 | puerto escondido\n",
      "Processing record 33 of 3 | hasaki\n",
      "Processing record 34 of 3 | saravan\n",
      "Processing record 35 of 3 | norman wells\n",
      "Processing record 36 of 3 | waipawa\n",
      "Processing record 37 of 3 | kulhudhuffushi\n",
      "Processing record 38 of 3 | marsabit\n",
      "Processing record 39 of 3 | dingle\n",
      "Processing record 40 of 3 | emerald\n",
      "Processing record 41 of 3 | mahebourg\n",
      "Processing record 42 of 3 | male\n",
      "Processing record 43 of 3 | osmena\n",
      "Processing record 44 of 3 | waingapu\n",
      "Processing record 45 of 3 | hithadhoo\n",
      "Processing record 46 of 3 | nizhniy tsasuchey\n",
      "Processing record 47 of 3 | ko samui\n",
      "City not found. Skipping...\n",
      "Processing record 48 of 3 | saldanha\n",
      "Processing record 49 of 3 | mar del plata\n",
      "Processing record 50 of 3 | faanui\n",
      "Processing record 0 of 4 | santarem\n",
      "Processing record 1 of 4 | cidreira\n",
      "Processing record 2 of 4 | katsuura\n",
      "Processing record 3 of 4 | standerton\n",
      "Processing record 4 of 4 | vao\n",
      "City not found. Skipping...\n",
      "Processing record 5 of 4 | inverell\n",
      "Processing record 6 of 4 | airai\n",
      "Processing record 7 of 4 | chuy\n",
      "Processing record 8 of 4 | lithakia\n",
      "Processing record 9 of 4 | baryshivka\n",
      "Processing record 10 of 4 | henties bay\n",
      "Processing record 11 of 4 | mackay\n",
      "Processing record 12 of 4 | aquiraz\n",
      "Processing record 13 of 4 | saskylakh\n",
      "Processing record 14 of 4 | coruripe\n",
      "Processing record 15 of 4 | iqaluit\n",
      "Processing record 16 of 4 | mount darwin\n",
      "Processing record 17 of 4 | puerto baquerizo moreno\n",
      "Processing record 18 of 4 | boa vista\n",
      "City not found. Skipping...\n",
      "Processing record 19 of 4 | narrabri\n",
      "Processing record 20 of 4 | okhotsk\n",
      "Processing record 21 of 4 | gore\n",
      "Processing record 22 of 4 | umm lajj\n",
      "Processing record 23 of 4 | zunyi\n",
      "Processing record 24 of 4 | pangody\n",
      "City not found. Skipping...\n",
      "Processing record 25 of 4 | touros\n",
      "Processing record 26 of 4 | esperance\n",
      "Processing record 27 of 4 | tasiilaq\n",
      "Processing record 28 of 4 | mogadishu\n",
      "City not found. Skipping...\n",
      "Processing record 29 of 4 | southampton\n",
      "Processing record 30 of 4 | guabito\n",
      "Processing record 31 of 4 | lompoc\n",
      "Processing record 32 of 4 | uvalde\n",
      "Processing record 33 of 4 | cabo san lucas\n",
      "Processing record 34 of 4 | ariquemes\n",
      "Processing record 35 of 4 | palimbang\n",
      "Processing record 36 of 4 | ridgecrest\n",
      "Processing record 37 of 4 | wojkowice\n",
      "Processing record 38 of 4 | chokurdakh\n",
      "Processing record 39 of 4 | haines junction\n",
      "Processing record 40 of 4 | petropavlovsk-kamchatskiy\n",
      "Processing record 41 of 4 | bowen\n",
      "Processing record 42 of 4 | carnarvon\n",
      "Processing record 43 of 4 | buluang\n",
      "Processing record 44 of 4 | padang\n",
      "Processing record 45 of 4 | arraial do cabo\n",
      "Processing record 46 of 4 | mokhsogollokh\n",
      "Processing record 47 of 4 | richards bay\n",
      "Processing record 48 of 4 | bengkulu\n",
      "Processing record 49 of 4 | werda\n",
      "Processing record 50 of 4 | severo-kurilsk\n",
      "Processing record 0 of 5 | hami\n",
      "Processing record 1 of 5 | kirakira\n"
     ]
    },
    {
     "name": "stdout",
     "output_type": "stream",
     "text": [
      "Processing record 2 of 5 | burnie\n",
      "Processing record 3 of 5 | zhezkazgan\n",
      "Processing record 4 of 5 | tevaitoa\n",
      "Processing record 5 of 5 | mtwara\n",
      "City not found. Skipping...\n",
      "City not found. Skipping...\n",
      "Processing record 6 of 5 | kathmandu\n",
      "Processing record 7 of 5 | portland\n",
      "Processing record 8 of 5 | clyde river\n",
      "Processing record 9 of 5 | savinka\n",
      "Processing record 10 of 5 | miles city\n",
      "Processing record 11 of 5 | morondava\n",
      "Processing record 12 of 5 | souillac\n",
      "Processing record 13 of 5 | behbahan\n",
      "City not found. Skipping...\n",
      "Processing record 14 of 5 | prado\n",
      "Processing record 15 of 5 | yerbogachen\n",
      "Processing record 16 of 5 | krumovgrad\n",
      "Processing record 17 of 5 | north las vegas\n",
      "City not found. Skipping...\n",
      "Processing record 18 of 5 | lorengau\n",
      "Processing record 19 of 5 | sola\n",
      "Processing record 20 of 5 | sechura\n",
      "Processing record 21 of 5 | kozuchow\n",
      "Processing record 22 of 5 | faya\n",
      "Processing record 23 of 5 | itarema\n",
      "Processing record 24 of 5 | laguna\n",
      "City not found. Skipping...\n",
      "Processing record 25 of 5 | ishigaki\n",
      "Processing record 26 of 5 | codrington\n",
      "Processing record 27 of 5 | ampanihy\n",
      "Processing record 28 of 5 | morant bay\n",
      "Processing record 29 of 5 | kloulklubed\n",
      "Processing record 30 of 5 | gurlan\n",
      "Processing record 31 of 5 | mehamn\n",
      "Processing record 32 of 5 | sokolo\n",
      "Processing record 33 of 5 | marsa matruh\n",
      "Processing record 34 of 5 | guerrero negro\n",
      "Processing record 35 of 5 | baykit\n",
      "Processing record 36 of 5 | durban\n",
      "Processing record 37 of 5 | qui nhon\n",
      "Processing record 38 of 5 | port elizabeth\n",
      "Processing record 39 of 5 | beruwala\n",
      "Processing record 40 of 5 | tongren\n",
      "Processing record 41 of 5 | kyrylivka\n",
      "Processing record 42 of 5 | wattegama\n",
      "Processing record 43 of 5 | rio grande\n",
      "Processing record 44 of 5 | rocha\n",
      "Processing record 45 of 5 | ust-kuyga\n",
      "Processing record 46 of 5 | nizwa\n",
      "Processing record 47 of 5 | berdigestyakh\n",
      "City not found. Skipping...\n",
      "Processing record 48 of 5 | billings\n",
      "Processing record 49 of 5 | yellowknife\n",
      "Processing record 50 of 5 | college\n",
      "Processing record 0 of 6 | la ronge\n",
      "Processing record 1 of 6 | sao jose da coroa grande\n",
      "Processing record 2 of 6 | san miguelito\n",
      "Processing record 3 of 6 | acapulco\n",
      "Processing record 4 of 6 | hobyo\n",
      "Processing record 5 of 6 | shiraz\n",
      "Processing record 6 of 6 | dharmadam\n",
      "Processing record 7 of 6 | naze\n",
      "Processing record 8 of 6 | barabai\n",
      "Processing record 9 of 6 | balkanabat\n",
      "Processing record 10 of 6 | buin\n",
      "Processing record 11 of 6 | sidi ali\n",
      "Processing record 12 of 6 | axim\n",
      "Processing record 13 of 6 | sergeyevka\n",
      "Processing record 14 of 6 | nagykata\n",
      "Processing record 15 of 6 | constitucion\n",
      "Processing record 16 of 6 | athabasca\n",
      "Processing record 17 of 6 | wamba\n",
      "Processing record 18 of 6 | salalah\n",
      "Processing record 19 of 6 | nantucket\n",
      "Processing record 20 of 6 | vostochnyy\n",
      "Processing record 21 of 6 | saint-pierre\n",
      "City not found. Skipping...\n",
      "Processing record 22 of 6 | koumac\n",
      "Processing record 23 of 6 | khilok\n",
      "Processing record 24 of 6 | puerto del rosario\n",
      "Processing record 25 of 6 | tokur\n",
      "City not found. Skipping...\n",
      "Processing record 26 of 6 | satara\n",
      "Processing record 27 of 6 | cockburn town\n",
      "Processing record 28 of 6 | awjilah\n",
      "Processing record 29 of 6 | erechim\n",
      "City not found. Skipping...\n",
      "Processing record 30 of 6 | abu dhabi\n",
      "Processing record 31 of 6 | cancun\n",
      "Processing record 32 of 6 | zaysan\n",
      "Processing record 33 of 6 | mokrousovo\n",
      "Processing record 34 of 6 | komsomolskiy\n",
      "City not found. Skipping...\n",
      "Processing record 35 of 6 | beringovskiy\n",
      "Processing record 36 of 6 | bubaque\n",
      "City not found. Skipping...\n",
      "Processing record 37 of 6 | ampere\n",
      "Processing record 38 of 6 | zhigansk\n",
      "Processing record 39 of 6 | raudeberg\n",
      "Processing record 40 of 6 | casin\n",
      "Processing record 41 of 6 | nisia floresta\n",
      "Processing record 42 of 6 | inta\n",
      "Processing record 43 of 6 | tuatapere\n",
      "Processing record 44 of 6 | oksovskiy\n",
      "Processing record 45 of 6 | taybad\n",
      "Processing record 46 of 6 | anandnagar\n",
      "Processing record 47 of 6 | praia da vitoria\n",
      "Processing record 48 of 6 | bayir\n",
      "Processing record 49 of 6 | ferrandina\n",
      "Processing record 50 of 6 | lagoa\n",
      "Processing record 0 of 7 | yar-sale\n",
      "Processing record 1 of 7 | bathsheba\n",
      "Processing record 2 of 7 | baker city\n",
      "City not found. Skipping...\n",
      "Processing record 3 of 7 | nouakchott\n",
      "Processing record 4 of 7 | yevlax\n",
      "Processing record 5 of 7 | tekirdag\n",
      "Processing record 6 of 7 | inirida\n",
      "Processing record 7 of 7 | nelson bay\n",
      "Processing record 8 of 7 | lata\n",
      "City not found. Skipping...\n",
      "Processing record 9 of 7 | salinopolis\n",
      "Processing record 10 of 7 | aketi\n",
      "Processing record 11 of 7 | saint-joseph\n",
      "Processing record 12 of 7 | whitehorse\n",
      "Processing record 13 of 7 | dolores\n",
      "Processing record 14 of 7 | san patricio\n",
      "City not found. Skipping...\n",
      "Processing record 15 of 7 | taylor\n",
      "Processing record 16 of 7 | kolpashevo\n",
      "Processing record 17 of 7 | powell\n",
      "Processing record 18 of 7 | jalpan\n",
      "Processing record 19 of 7 | belmonte\n",
      "Processing record 20 of 7 | kristiansund\n",
      "Processing record 21 of 7 | fairbanks\n",
      "Processing record 22 of 7 | poum\n",
      "Processing record 23 of 7 | ucluelet\n",
      "Processing record 24 of 7 | port keats\n",
      "Processing record 25 of 7 | dulce nombre de culmi\n",
      "Processing record 26 of 7 | sirjan\n",
      "Processing record 27 of 7 | kamennomostskoye\n",
      "Processing record 28 of 7 | valparaiso\n",
      "Processing record 29 of 7 | yenagoa\n",
      "Processing record 30 of 7 | conceicao do araguaia\n",
      "Processing record 31 of 7 | guatire\n",
      "City not found. Skipping...\n",
      "Processing record 32 of 7 | somerset\n",
      "Processing record 33 of 7 | gat\n",
      "Processing record 34 of 7 | nakamura\n",
      "Processing record 35 of 7 | rawson\n",
      "Processing record 36 of 7 | sabang\n",
      "Processing record 37 of 7 | jumla\n",
      "Processing record 38 of 7 | pitmoaga\n",
      "City not found. Skipping...\n",
      "Processing record 39 of 7 | kumluca\n",
      "Processing record 40 of 7 | longyearbyen\n",
      "Processing record 41 of 7 | madimba\n",
      "Processing record 42 of 7 | pontianak\n",
      "Processing record 43 of 7 | abiramam\n",
      "Processing record 44 of 7 | sisimiut\n",
      "Processing record 45 of 7 | rostovka\n",
      "Processing record 46 of 7 | mount gambier\n",
      "Processing record 47 of 7 | dahuk\n",
      "City not found. Skipping...\n",
      "Processing record 48 of 7 | puntarenas\n",
      "Processing record 49 of 7 | alofi\n",
      "Processing record 50 of 7 | newport\n",
      "Processing record 0 of 8 | marsh harbour\n",
      "Processing record 1 of 8 | viedma\n",
      "Processing record 2 of 8 | sorland\n",
      "Processing record 3 of 8 | cap malheureux\n",
      "Processing record 4 of 8 | santo angelo\n",
      "Processing record 5 of 8 | ihlow\n",
      "Processing record 6 of 8 | grindavik\n",
      "Processing record 7 of 8 | mana\n",
      "Processing record 8 of 8 | sept-iles\n",
      "Processing record 9 of 8 | birao\n",
      "Processing record 10 of 8 | ahipara\n",
      "Processing record 11 of 8 | namtsy\n",
      "City not found. Skipping...\n",
      "Processing record 12 of 8 | port macquarie\n",
      "City not found. Skipping...\n",
      "Processing record 13 of 8 | staryy nadym\n",
      "City not found. Skipping...\n",
      "Processing record 14 of 8 | lucapa\n",
      "Processing record 15 of 8 | ostersund\n",
      "Processing record 16 of 8 | soria\n",
      "Processing record 17 of 8 | damaturu\n",
      "City not found. Skipping...\n",
      "Processing record 18 of 8 | seguin\n",
      "Processing record 19 of 8 | kaitangata\n",
      "Processing record 20 of 8 | ponta do sol\n",
      "Processing record 21 of 8 | ryotsu\n",
      "Processing record 22 of 8 | tobermory\n",
      "Processing record 23 of 8 | saint john\n",
      "Processing record 24 of 8 | ust-ishim\n",
      "Processing record 25 of 8 | tharad\n",
      "Processing record 26 of 8 | sal rei\n",
      "Processing record 27 of 8 | kuito\n",
      "Processing record 28 of 8 | manono\n",
      "Processing record 29 of 8 | virginia beach\n",
      "Processing record 30 of 8 | pisticci\n",
      "Processing record 31 of 8 | taiobeiras\n",
      "City not found. Skipping...\n",
      "Processing record 32 of 8 | macau\n",
      "Processing record 33 of 8 | parkes\n",
      "Processing record 34 of 8 | tabuk\n",
      "Processing record 35 of 8 | usinsk\n",
      "Processing record 36 of 8 | dongsheng\n",
      "Processing record 37 of 8 | parichha\n",
      "Processing record 38 of 8 | deming\n",
      "Processing record 39 of 8 | flin flon\n",
      "Processing record 40 of 8 | irbeyskoye\n",
      "Processing record 41 of 8 | buraydah\n",
      "City not found. Skipping...\n",
      "Processing record 42 of 8 | limbang\n",
      "Processing record 43 of 8 | maniitsoq\n",
      "Processing record 44 of 8 | auki\n",
      "Processing record 45 of 8 | pisco\n",
      "City not found. Skipping...\n",
      "Processing record 46 of 8 | la asuncion\n",
      "City not found. Skipping...\n",
      "Processing record 47 of 8 | almora\n",
      "City not found. Skipping...\n",
      "Processing record 48 of 8 | saint-augustin\n",
      "Processing record 49 of 8 | varangaon\n"
     ]
    },
    {
     "name": "stdout",
     "output_type": "stream",
     "text": [
      "Processing record 50 of 8 | mujiayingzi\n",
      "Processing record 0 of 9 | san jeronimo\n",
      "Processing record 1 of 9 | graaff-reinet\n",
      "Processing record 2 of 9 | ostrovnoy\n",
      "Processing record 3 of 9 | galbshtadt\n",
      "Processing record 4 of 9 | cordoba\n",
      "Processing record 5 of 9 | north augusta\n",
      "City not found. Skipping...\n",
      "Processing record 6 of 9 | gravelbourg\n",
      "Processing record 7 of 9 | itaituba\n",
      "Processing record 8 of 9 | port said\n",
      "Processing record 9 of 9 | akureyri\n",
      "Processing record 10 of 9 | samana\n",
      "Processing record 11 of 9 | taos\n",
      "Processing record 12 of 9 | maarianhamina\n",
      "Processing record 13 of 9 | yulara\n",
      "Processing record 14 of 9 | sokoni\n",
      "Processing record 15 of 9 | orchard homes\n",
      "Processing record 16 of 9 | omsukchan\n",
      "Processing record 17 of 9 | qaqortoq\n",
      "Processing record 18 of 9 | san cristobal\n",
      "Processing record 19 of 9 | talnakh\n",
      "City not found. Skipping...\n",
      "Processing record 20 of 9 | kodinsk\n",
      "Processing record 21 of 9 | sinnamary\n",
      "Processing record 22 of 9 | gander\n",
      "Processing record 23 of 9 | tygda\n",
      "Processing record 24 of 9 | taltal\n",
      "Processing record 25 of 9 | urengoy\n",
      "Processing record 26 of 9 | yazykovo\n",
      "Processing record 27 of 9 | aklavik\n",
      "Processing record 28 of 9 | wonthaggi\n",
      "Processing record 29 of 9 | birobidzhan\n",
      "Processing record 30 of 9 | varlamovo\n",
      "Processing record 31 of 9 | ati\n",
      "Processing record 32 of 9 | manakara\n",
      "Processing record 33 of 9 | plerin\n",
      "Processing record 34 of 9 | eirunepe\n",
      "Processing record 35 of 9 | merrill\n",
      "Processing record 36 of 9 | bondoukou\n",
      "Processing record 37 of 9 | barra patuca\n",
      "Processing record 38 of 9 | maceio\n",
      "Processing record 39 of 9 | zaton\n",
      "Processing record 40 of 9 | rio gallegos\n",
      "Processing record 41 of 9 | riyadh\n",
      "Processing record 42 of 9 | salinas\n",
      "Processing record 43 of 9 | tabursuq\n",
      "Processing record 44 of 9 | carlisle\n",
      "Processing record 45 of 9 | taoudenni\n",
      "Processing record 46 of 9 | muros\n",
      "City not found. Skipping...\n",
      "Processing record 47 of 9 | morros\n",
      "Processing record 48 of 9 | vidim\n",
      "Processing record 49 of 9 | klyuchi\n",
      "Processing record 50 of 9 | tucumcari\n",
      "Processing record 0 of 10 | katherine\n",
      "Processing record 1 of 10 | ures\n",
      "Processing record 2 of 10 | chama\n",
      "Processing record 3 of 10 | stornoway\n",
      "Processing record 4 of 10 | atambua\n",
      "Processing record 5 of 10 | gobabis\n",
      "Processing record 6 of 10 | mersing\n",
      "Processing record 7 of 10 | berlevag\n",
      "Processing record 8 of 10 | onguday\n",
      "Processing record 9 of 10 | namibe\n",
      "Processing record 10 of 10 | deep river\n",
      "Processing record 11 of 10 | verkhnyaya inta\n",
      "Processing record 12 of 10 | narsaq\n",
      "Processing record 13 of 10 | cabedelo\n",
      "Processing record 14 of 10 | egvekinot\n",
      "Processing record 15 of 10 | hofn\n",
      "Processing record 16 of 10 | kattivakkam\n",
      "Processing record 17 of 10 | havre-saint-pierre\n",
      "Processing record 18 of 10 | menongue\n",
      "Processing record 19 of 10 | gwadar\n",
      "Processing record 20 of 10 | finnsnes\n",
      "Processing record 21 of 10 | camocim\n",
      "Processing record 22 of 10 | sarangani\n",
      "Processing record 23 of 10 | brookhaven\n",
      "Processing record 24 of 10 | jalu\n",
      "Processing record 25 of 10 | sur\n",
      "Processing record 26 of 10 | ikwiriri\n",
      "Processing record 27 of 10 | santa helena de goias\n",
      "Processing record 28 of 10 | bintulu\n",
      "Processing record 29 of 10 | blenheim\n",
      "Processing record 30 of 10 | maumere\n",
      "Processing record 31 of 10 | sexsmith\n",
      "Processing record 32 of 10 | masvingo\n",
      "Processing record 33 of 10 | charlestown\n",
      "Processing record 34 of 10 | imbituba\n",
      "Processing record 35 of 10 | mongo\n",
      "Processing record 36 of 10 | republic\n",
      "Processing record 37 of 10 | fort nelson\n",
      "Processing record 38 of 10 | broome\n",
      "Processing record 39 of 10 | ilo\n",
      "Processing record 40 of 10 | zhengjiatun\n",
      "Processing record 41 of 10 | north bend\n",
      "Processing record 42 of 10 | sioux lookout\n",
      "Processing record 43 of 10 | solnechnyy\n",
      "Processing record 44 of 10 | ilulissat\n",
      "Processing record 45 of 10 | deogarh\n",
      "Processing record 46 of 10 | albania\n",
      "Processing record 47 of 10 | hukuntsi\n",
      "Processing record 48 of 10 | natal\n",
      "Processing record 49 of 10 | anadyr\n",
      "Processing record 50 of 10 | uruzgan\n",
      "Processing record 0 of 11 | lagos\n",
      "Processing record 1 of 11 | manicore\n",
      "Processing record 2 of 11 | namchi\n",
      "Processing record 3 of 11 | paraiso\n",
      "Processing record 4 of 11 | boca do acre\n",
      "Processing record 5 of 11 | ornskoldsvik\n",
      "Processing record 6 of 11 | china\n",
      "Processing record 7 of 11 | kita\n",
      "Processing record 8 of 11 | penzance\n",
      "Processing record 9 of 11 | odweyne\n",
      "Processing record 10 of 11 | kieta\n",
      "Processing record 11 of 11 | van\n",
      "Processing record 12 of 11 | odesskoye\n",
      "Processing record 13 of 11 | vila franca do campo\n",
      "Processing record 14 of 11 | bacolod\n",
      "Processing record 15 of 11 | ranong\n",
      "Processing record 16 of 11 | tamworth\n",
      "Processing record 17 of 11 | kindu\n",
      "Processing record 18 of 11 | bilma\n",
      "Processing record 19 of 11 | palmer\n",
      "Processing record 20 of 11 | la libertad\n",
      "Processing record 21 of 11 | de-kastri\n",
      "Processing record 22 of 11 | karratha\n",
      "Processing record 23 of 11 | muravlenko\n",
      "Processing record 24 of 11 | sandy bay\n",
      "Processing record 25 of 11 | paka\n",
      "Processing record 26 of 11 | kaka\n",
      "Processing record 27 of 11 | vaitape\n",
      "Processing record 28 of 11 | santa cruz\n",
      "Processing record 29 of 11 | kailua\n",
      "Processing record 30 of 11 | mandalgovi\n",
      "Processing record 31 of 11 | bell ville\n",
      "Processing record 32 of 11 | piacabucu\n",
      "Processing record 33 of 11 | batsfjord\n",
      "Processing record 34 of 11 | birjand\n",
      "Processing record 35 of 11 | ambilobe\n",
      "Processing record 36 of 11 | sarai\n",
      "Processing record 37 of 11 | calvia\n",
      "Processing record 38 of 11 | grand gaube\n",
      "Processing record 39 of 11 | nadym\n",
      "Processing record 40 of 11 | kalispell\n",
      "Processing record 41 of 11 | olinda\n",
      "Processing record 42 of 11 | kaduqli\n",
      "Processing record 43 of 11 | puerto padre\n",
      "Processing record 44 of 11 | holovyne\n",
      "Processing record 45 of 11 | miyako\n",
      "Processing record 46 of 11 | beira\n",
      "Processing record 47 of 11 | thanh hoa\n",
      "Processing record 48 of 11 | nelspruit\n",
      "Processing record 49 of 11 | burns lake\n",
      "Processing record 50 of 11 | manyana\n",
      "Processing record 0 of 12 | ngunguru\n",
      "Processing record 1 of 12 | lumby\n",
      "Processing record 2 of 12 | anloga\n",
      "Processing record 3 of 12 | aguas vermelhas\n",
      "-----------------------------\n",
      "Data Retrieval Completed!\n",
      "-----------------------------\n"
     ]
    }
   ],
   "source": [
    "#**For those running the code, I did implement the time.sleep(60), so it will take a while to complete**\n",
    "\n",
    "#print statement to make print log look nice\n",
    "print(\"Begin Data Retrieval\")\n",
    "print(\"-----------------------------\")\n",
    "\n",
    "#call openweather map\n",
    "url = \"http://api.openweathermap.org/data/2.5/weather?units=Imperial&\"\n",
    "query_url = f\"{url}appid={weather_api_key}&q=\"\n",
    "\n",
    "#create empty lists for weather values\n",
    "cityname = []\n",
    "lat = []\n",
    "lng = []\n",
    "max_temp = []\n",
    "humidity = []\n",
    "cloudiness = []\n",
    "wind_speed = []\n",
    "country = []\n",
    "date = []\n",
    "\n",
    "\n",
    "#---------------------------------------------------\n",
    "#loop through the list of cities and call the api\n",
    "citycnt = 0\n",
    "setcnt = 1\n",
    "for index, city in enumerate(cities, start = 1):\n",
    "    try:\n",
    "        response = requests.get(query_url + city).json()\n",
    "        cloudiness.append(response[\"clouds\"][\"all\"])\n",
    "        cityname.append(response[\"name\"])\n",
    "        country.append(response[\"sys\"][\"country\"])\n",
    "        date.append(response[\"dt\"])\n",
    "        humidity.append(response[\"main\"][\"humidity\"])\n",
    "        max_temp.append(response[\"main\"][\"temp_max\"])\n",
    "        lat.append(response[\"coord\"][\"lat\"])\n",
    "        lng.append(response[\"coord\"][\"lon\"])\n",
    "        wind_speed.append(response[\"wind\"][\"speed\"])\n",
    "        \n",
    "        if citycnt > 49:\n",
    "            time.sleep(60)\n",
    "            citycnt = 0\n",
    "            setcnt = setcnt + 1\n",
    "        else:\n",
    "            citycnt += 1\n",
    "        \n",
    "        print(f\"Processing record {citycnt} of {setcnt} | {city}\")\n",
    "       \n",
    "    except (KeyError):\n",
    "        print(\"City not found. Skipping...\")\n",
    "\n",
    "#closing print statement, for looks\n",
    "print(\"-----------------------------\")    \n",
    "print(\"Data Retrieval Completed!\")\n",
    "print(\"-----------------------------\")"
   ]
  },
  {
   "cell_type": "markdown",
   "metadata": {},
   "source": [
    "### Convert Raw Data to DataFrame\n",
    "* Export the city data into a .csv.\n",
    "* Display the DataFrame"
   ]
  },
  {
   "cell_type": "code",
   "execution_count": 20,
   "metadata": {},
   "outputs": [
    {
     "data": {
      "text/html": [
       "<div>\n",
       "<style scoped>\n",
       "    .dataframe tbody tr th:only-of-type {\n",
       "        vertical-align: middle;\n",
       "    }\n",
       "\n",
       "    .dataframe tbody tr th {\n",
       "        vertical-align: top;\n",
       "    }\n",
       "\n",
       "    .dataframe thead th {\n",
       "        text-align: right;\n",
       "    }\n",
       "</style>\n",
       "<table border=\"1\" class=\"dataframe\">\n",
       "  <thead>\n",
       "    <tr style=\"text-align: right;\">\n",
       "      <th></th>\n",
       "      <th>City</th>\n",
       "      <th>Lat</th>\n",
       "      <th>Lng</th>\n",
       "      <th>Max Temp</th>\n",
       "      <th>Humidity</th>\n",
       "      <th>Cloudiness</th>\n",
       "      <th>Wind Speed</th>\n",
       "      <th>Country</th>\n",
       "      <th>Date</th>\n",
       "    </tr>\n",
       "    <tr>\n",
       "      <th>City ID</th>\n",
       "      <th></th>\n",
       "      <th></th>\n",
       "      <th></th>\n",
       "      <th></th>\n",
       "      <th></th>\n",
       "      <th></th>\n",
       "      <th></th>\n",
       "      <th></th>\n",
       "      <th></th>\n",
       "    </tr>\n",
       "  </thead>\n",
       "  <tbody>\n",
       "    <tr>\n",
       "      <th>0</th>\n",
       "      <td>Zabul Province</td>\n",
       "      <td>32.2500</td>\n",
       "      <td>67.2500</td>\n",
       "      <td>36.01</td>\n",
       "      <td>62</td>\n",
       "      <td>100</td>\n",
       "      <td>5.12</td>\n",
       "      <td>AF</td>\n",
       "      <td>1643499952</td>\n",
       "    </tr>\n",
       "    <tr>\n",
       "      <th>1</th>\n",
       "      <td>Ushuaia</td>\n",
       "      <td>-54.8000</td>\n",
       "      <td>-68.3000</td>\n",
       "      <td>44.26</td>\n",
       "      <td>87</td>\n",
       "      <td>100</td>\n",
       "      <td>13.80</td>\n",
       "      <td>AR</td>\n",
       "      <td>1643499462</td>\n",
       "    </tr>\n",
       "    <tr>\n",
       "      <th>2</th>\n",
       "      <td>New Norfolk</td>\n",
       "      <td>-42.7826</td>\n",
       "      <td>147.0587</td>\n",
       "      <td>73.65</td>\n",
       "      <td>33</td>\n",
       "      <td>13</td>\n",
       "      <td>2.01</td>\n",
       "      <td>AU</td>\n",
       "      <td>1643499466</td>\n",
       "    </tr>\n",
       "    <tr>\n",
       "      <th>3</th>\n",
       "      <td>Tiksi</td>\n",
       "      <td>71.6872</td>\n",
       "      <td>128.8694</td>\n",
       "      <td>-9.49</td>\n",
       "      <td>98</td>\n",
       "      <td>56</td>\n",
       "      <td>4.25</td>\n",
       "      <td>RU</td>\n",
       "      <td>1643499261</td>\n",
       "    </tr>\n",
       "    <tr>\n",
       "      <th>4</th>\n",
       "      <td>Arlit</td>\n",
       "      <td>18.7369</td>\n",
       "      <td>7.3853</td>\n",
       "      <td>61.97</td>\n",
       "      <td>16</td>\n",
       "      <td>1</td>\n",
       "      <td>6.67</td>\n",
       "      <td>NE</td>\n",
       "      <td>1643499955</td>\n",
       "    </tr>\n",
       "    <tr>\n",
       "      <th>...</th>\n",
       "      <td>...</td>\n",
       "      <td>...</td>\n",
       "      <td>...</td>\n",
       "      <td>...</td>\n",
       "      <td>...</td>\n",
       "      <td>...</td>\n",
       "      <td>...</td>\n",
       "      <td>...</td>\n",
       "      <td>...</td>\n",
       "    </tr>\n",
       "    <tr>\n",
       "      <th>559</th>\n",
       "      <td>Manyana</td>\n",
       "      <td>-23.4000</td>\n",
       "      <td>21.7167</td>\n",
       "      <td>71.89</td>\n",
       "      <td>72</td>\n",
       "      <td>84</td>\n",
       "      <td>14.63</td>\n",
       "      <td>BW</td>\n",
       "      <td>1643500870</td>\n",
       "    </tr>\n",
       "    <tr>\n",
       "      <th>560</th>\n",
       "      <td>Ngunguru</td>\n",
       "      <td>-35.6167</td>\n",
       "      <td>174.5000</td>\n",
       "      <td>72.16</td>\n",
       "      <td>64</td>\n",
       "      <td>40</td>\n",
       "      <td>11.16</td>\n",
       "      <td>NZ</td>\n",
       "      <td>1643500871</td>\n",
       "    </tr>\n",
       "    <tr>\n",
       "      <th>561</th>\n",
       "      <td>Lumby</td>\n",
       "      <td>50.2498</td>\n",
       "      <td>-118.9690</td>\n",
       "      <td>32.04</td>\n",
       "      <td>95</td>\n",
       "      <td>100</td>\n",
       "      <td>1.10</td>\n",
       "      <td>CA</td>\n",
       "      <td>1643500931</td>\n",
       "    </tr>\n",
       "    <tr>\n",
       "      <th>562</th>\n",
       "      <td>Anloga</td>\n",
       "      <td>5.7947</td>\n",
       "      <td>0.8973</td>\n",
       "      <td>79.59</td>\n",
       "      <td>84</td>\n",
       "      <td>90</td>\n",
       "      <td>4.85</td>\n",
       "      <td>GH</td>\n",
       "      <td>1643500932</td>\n",
       "    </tr>\n",
       "    <tr>\n",
       "      <th>563</th>\n",
       "      <td>Águas Vermelhas</td>\n",
       "      <td>-15.7472</td>\n",
       "      <td>-41.4600</td>\n",
       "      <td>65.57</td>\n",
       "      <td>95</td>\n",
       "      <td>14</td>\n",
       "      <td>2.46</td>\n",
       "      <td>BR</td>\n",
       "      <td>1643500932</td>\n",
       "    </tr>\n",
       "  </tbody>\n",
       "</table>\n",
       "<p>564 rows × 9 columns</p>\n",
       "</div>"
      ],
      "text/plain": [
       "                    City      Lat       Lng  Max Temp  Humidity  Cloudiness  \\\n",
       "City ID                                                                       \n",
       "0         Zabul Province  32.2500   67.2500     36.01        62         100   \n",
       "1                Ushuaia -54.8000  -68.3000     44.26        87         100   \n",
       "2            New Norfolk -42.7826  147.0587     73.65        33          13   \n",
       "3                  Tiksi  71.6872  128.8694     -9.49        98          56   \n",
       "4                  Arlit  18.7369    7.3853     61.97        16           1   \n",
       "...                  ...      ...       ...       ...       ...         ...   \n",
       "559              Manyana -23.4000   21.7167     71.89        72          84   \n",
       "560             Ngunguru -35.6167  174.5000     72.16        64          40   \n",
       "561                Lumby  50.2498 -118.9690     32.04        95         100   \n",
       "562               Anloga   5.7947    0.8973     79.59        84          90   \n",
       "563      Águas Vermelhas -15.7472  -41.4600     65.57        95          14   \n",
       "\n",
       "         Wind Speed Country        Date  \n",
       "City ID                                  \n",
       "0              5.12      AF  1643499952  \n",
       "1             13.80      AR  1643499462  \n",
       "2              2.01      AU  1643499466  \n",
       "3              4.25      RU  1643499261  \n",
       "4              6.67      NE  1643499955  \n",
       "...             ...     ...         ...  \n",
       "559           14.63      BW  1643500870  \n",
       "560           11.16      NZ  1643500871  \n",
       "561            1.10      CA  1643500931  \n",
       "562            4.85      GH  1643500932  \n",
       "563            2.46      BR  1643500932  \n",
       "\n",
       "[564 rows x 9 columns]"
      ]
     },
     "execution_count": 20,
     "metadata": {},
     "output_type": "execute_result"
    }
   ],
   "source": [
    "#create dataframe from retreived data\n",
    "weather_df = pd.DataFrame({\"City\": cityname,\n",
    "                           \"Lat\":lat,\n",
    "                           \"Lng\": lng,\n",
    "                           \"Max Temp\": max_temp,\n",
    "                           \"Humidity\":humidity,\n",
    "                           \"Cloudiness\":cloudiness,\n",
    "                           \"Wind Speed\":wind_speed,\n",
    "                           \"Country\":country,\n",
    "                           \"Date\":date\n",
    "                          }).rename_axis('City ID')\n",
    "\n",
    "#export data to a csv\n",
    "weather_df.to_csv(\"../output_files/city_weatherdata.csv\")\n",
    "\n",
    "#show preview of dataset\n",
    "weather_df\n"
   ]
  },
  {
   "cell_type": "markdown",
   "metadata": {},
   "source": [
    "## Inspect the data and remove the cities where the humidity > 100%.\n",
    "----\n",
    "Skip this step if there are no cities that have humidity > 100%. "
   ]
  },
  {
   "cell_type": "code",
   "execution_count": 105,
   "metadata": {},
   "outputs": [
    {
     "name": "stdout",
     "output_type": "stream",
     "text": [
      "The highest humidity reading was 100, so we missed seeing this full section by exactly 0 humidity points!\n",
      "------------------------------------\n",
      "If you want to check the over100_df code, change it to look for a humidity reading at 90\n"
     ]
    }
   ],
   "source": [
    "#find the max humidity reading\n",
    "humiditymax = weather_df[\"Humidity\"].max()\n",
    "\n",
    "#if the highest humidity reading is over 100,\n",
    "if humiditymax > 100:\n",
    "    \n",
    "    #create a dataframe of the cities where the humidity is over 100\n",
    "    over100_df = weather_df.loc[weather_df[\"Humidity\"] > 100]\n",
    "    \n",
    "    # Make a new DataFrame equal to the city data to drop all humidity outliers\n",
    "    clean_weatherdf = weather_df[weather_df.isin(over100_df)==False].dropna()\n",
    "\n",
    "else:\n",
    "    clean_weatherdf = weather_df.copy(deep=True)\n",
    "    print(f\"The highest humidity reading was {humiditymax}, so we missed seeing this full section by exactly {100 - humiditymax} humidity points!\")\n",
    "    print(f\"------------------------------------\")\n",
    "    print(f\"If you want to check the over100_df code, change it to look for a humidity reading at {humiditymax - 10}\")   "
   ]
  },
  {
   "cell_type": "code",
   "execution_count": 107,
   "metadata": {},
   "outputs": [
    {
     "data": {
      "text/html": [
       "<div>\n",
       "<style scoped>\n",
       "    .dataframe tbody tr th:only-of-type {\n",
       "        vertical-align: middle;\n",
       "    }\n",
       "\n",
       "    .dataframe tbody tr th {\n",
       "        vertical-align: top;\n",
       "    }\n",
       "\n",
       "    .dataframe thead th {\n",
       "        text-align: right;\n",
       "    }\n",
       "</style>\n",
       "<table border=\"1\" class=\"dataframe\">\n",
       "  <thead>\n",
       "    <tr style=\"text-align: right;\">\n",
       "      <th></th>\n",
       "      <th>City</th>\n",
       "      <th>Lat</th>\n",
       "      <th>Lng</th>\n",
       "      <th>Max Temp</th>\n",
       "      <th>Humidity</th>\n",
       "      <th>Cloudiness</th>\n",
       "      <th>Wind Speed</th>\n",
       "      <th>Country</th>\n",
       "      <th>Date</th>\n",
       "    </tr>\n",
       "    <tr>\n",
       "      <th>City ID</th>\n",
       "      <th></th>\n",
       "      <th></th>\n",
       "      <th></th>\n",
       "      <th></th>\n",
       "      <th></th>\n",
       "      <th></th>\n",
       "      <th></th>\n",
       "      <th></th>\n",
       "      <th></th>\n",
       "    </tr>\n",
       "  </thead>\n",
       "  <tbody>\n",
       "    <tr>\n",
       "      <th>0</th>\n",
       "      <td>Zabul Province</td>\n",
       "      <td>32.2500</td>\n",
       "      <td>67.2500</td>\n",
       "      <td>36.01</td>\n",
       "      <td>62</td>\n",
       "      <td>100</td>\n",
       "      <td>5.12</td>\n",
       "      <td>AF</td>\n",
       "      <td>1643499952</td>\n",
       "    </tr>\n",
       "    <tr>\n",
       "      <th>1</th>\n",
       "      <td>Ushuaia</td>\n",
       "      <td>-54.8000</td>\n",
       "      <td>-68.3000</td>\n",
       "      <td>44.26</td>\n",
       "      <td>87</td>\n",
       "      <td>100</td>\n",
       "      <td>13.80</td>\n",
       "      <td>AR</td>\n",
       "      <td>1643499462</td>\n",
       "    </tr>\n",
       "    <tr>\n",
       "      <th>2</th>\n",
       "      <td>New Norfolk</td>\n",
       "      <td>-42.7826</td>\n",
       "      <td>147.0587</td>\n",
       "      <td>73.65</td>\n",
       "      <td>33</td>\n",
       "      <td>13</td>\n",
       "      <td>2.01</td>\n",
       "      <td>AU</td>\n",
       "      <td>1643499466</td>\n",
       "    </tr>\n",
       "    <tr>\n",
       "      <th>3</th>\n",
       "      <td>Tiksi</td>\n",
       "      <td>71.6872</td>\n",
       "      <td>128.8694</td>\n",
       "      <td>-9.49</td>\n",
       "      <td>98</td>\n",
       "      <td>56</td>\n",
       "      <td>4.25</td>\n",
       "      <td>RU</td>\n",
       "      <td>1643499261</td>\n",
       "    </tr>\n",
       "    <tr>\n",
       "      <th>4</th>\n",
       "      <td>Arlit</td>\n",
       "      <td>18.7369</td>\n",
       "      <td>7.3853</td>\n",
       "      <td>61.97</td>\n",
       "      <td>16</td>\n",
       "      <td>1</td>\n",
       "      <td>6.67</td>\n",
       "      <td>NE</td>\n",
       "      <td>1643499955</td>\n",
       "    </tr>\n",
       "    <tr>\n",
       "      <th>...</th>\n",
       "      <td>...</td>\n",
       "      <td>...</td>\n",
       "      <td>...</td>\n",
       "      <td>...</td>\n",
       "      <td>...</td>\n",
       "      <td>...</td>\n",
       "      <td>...</td>\n",
       "      <td>...</td>\n",
       "      <td>...</td>\n",
       "    </tr>\n",
       "    <tr>\n",
       "      <th>559</th>\n",
       "      <td>Manyana</td>\n",
       "      <td>-23.4000</td>\n",
       "      <td>21.7167</td>\n",
       "      <td>71.89</td>\n",
       "      <td>72</td>\n",
       "      <td>84</td>\n",
       "      <td>14.63</td>\n",
       "      <td>BW</td>\n",
       "      <td>1643500870</td>\n",
       "    </tr>\n",
       "    <tr>\n",
       "      <th>560</th>\n",
       "      <td>Ngunguru</td>\n",
       "      <td>-35.6167</td>\n",
       "      <td>174.5000</td>\n",
       "      <td>72.16</td>\n",
       "      <td>64</td>\n",
       "      <td>40</td>\n",
       "      <td>11.16</td>\n",
       "      <td>NZ</td>\n",
       "      <td>1643500871</td>\n",
       "    </tr>\n",
       "    <tr>\n",
       "      <th>561</th>\n",
       "      <td>Lumby</td>\n",
       "      <td>50.2498</td>\n",
       "      <td>-118.9690</td>\n",
       "      <td>32.04</td>\n",
       "      <td>95</td>\n",
       "      <td>100</td>\n",
       "      <td>1.10</td>\n",
       "      <td>CA</td>\n",
       "      <td>1643500931</td>\n",
       "    </tr>\n",
       "    <tr>\n",
       "      <th>562</th>\n",
       "      <td>Anloga</td>\n",
       "      <td>5.7947</td>\n",
       "      <td>0.8973</td>\n",
       "      <td>79.59</td>\n",
       "      <td>84</td>\n",
       "      <td>90</td>\n",
       "      <td>4.85</td>\n",
       "      <td>GH</td>\n",
       "      <td>1643500932</td>\n",
       "    </tr>\n",
       "    <tr>\n",
       "      <th>563</th>\n",
       "      <td>Águas Vermelhas</td>\n",
       "      <td>-15.7472</td>\n",
       "      <td>-41.4600</td>\n",
       "      <td>65.57</td>\n",
       "      <td>95</td>\n",
       "      <td>14</td>\n",
       "      <td>2.46</td>\n",
       "      <td>BR</td>\n",
       "      <td>1643500932</td>\n",
       "    </tr>\n",
       "  </tbody>\n",
       "</table>\n",
       "<p>564 rows × 9 columns</p>\n",
       "</div>"
      ],
      "text/plain": [
       "                    City      Lat       Lng  Max Temp  Humidity  Cloudiness  \\\n",
       "City ID                                                                       \n",
       "0         Zabul Province  32.2500   67.2500     36.01        62         100   \n",
       "1                Ushuaia -54.8000  -68.3000     44.26        87         100   \n",
       "2            New Norfolk -42.7826  147.0587     73.65        33          13   \n",
       "3                  Tiksi  71.6872  128.8694     -9.49        98          56   \n",
       "4                  Arlit  18.7369    7.3853     61.97        16           1   \n",
       "...                  ...      ...       ...       ...       ...         ...   \n",
       "559              Manyana -23.4000   21.7167     71.89        72          84   \n",
       "560             Ngunguru -35.6167  174.5000     72.16        64          40   \n",
       "561                Lumby  50.2498 -118.9690     32.04        95         100   \n",
       "562               Anloga   5.7947    0.8973     79.59        84          90   \n",
       "563      Águas Vermelhas -15.7472  -41.4600     65.57        95          14   \n",
       "\n",
       "         Wind Speed Country        Date  \n",
       "City ID                                  \n",
       "0              5.12      AF  1643499952  \n",
       "1             13.80      AR  1643499462  \n",
       "2              2.01      AU  1643499466  \n",
       "3              4.25      RU  1643499261  \n",
       "4              6.67      NE  1643499955  \n",
       "...             ...     ...         ...  \n",
       "559           14.63      BW  1643500870  \n",
       "560           11.16      NZ  1643500871  \n",
       "561            1.10      CA  1643500931  \n",
       "562            4.85      GH  1643500932  \n",
       "563            2.46      BR  1643500932  \n",
       "\n",
       "[564 rows x 9 columns]"
      ]
     },
     "execution_count": 107,
     "metadata": {},
     "output_type": "execute_result"
    }
   ],
   "source": [
    "#show cleaned dataframe\n",
    "clean_weatherdf\n",
    "\n",
    "#whether we had outliers or not, we will use this dataframe from here on\n",
    "#because the dataset is randomized every time it is run"
   ]
  },
  {
   "cell_type": "markdown",
   "metadata": {},
   "source": [
    "## Plotting the Data\n",
    "* Use proper labeling of the plots using plot titles (including date of analysis) and axes labels.\n",
    "* Save the plotted figures as .pngs."
   ]
  },
  {
   "cell_type": "markdown",
   "metadata": {},
   "source": [
    "## Latitude vs. Temperature Plot"
   ]
  },
  {
   "cell_type": "code",
   "execution_count": 294,
   "metadata": {
    "scrolled": true
   },
   "outputs": [
    {
     "data": {
      "image/png": "[encoded data removed]",
      "text/plain": [
       "<Figure size 432x288 with 1 Axes>"
      ]
     },
     "metadata": {
      "needs_background": "light"
     },
     "output_type": "display_data"
    }
   ],
   "source": [
    "#create scatter plot\n",
    "plt.scatter(clean_weatherdf[\"Lat\"], clean_weatherdf[\"Max Temp\"], facecolor = \"gold\", edgecolor = \"black\")\n",
    "\n",
    "#convert date for plot titles\n",
    "timestamp = clean_weatherdf[\"Date\"][0]\n",
    "converted_ts = datetime.utcfromtimestamp(timestamp)\n",
    "short_ts = datetime.date(converted_ts)\n",
    "\n",
    "#pretty-up the plot - turn on grid, set axis labels, add title\n",
    "plt.grid()\n",
    "plt.xlabel(\"Latitude\")\n",
    "plt.ylabel(\"Max Temperature (F)\")\n",
    "plt.title(f\"Latitude vs. Max Temperature ({short_ts})\")\n",
    "\n",
    "#save as a png\n",
    "plt.savefig(\"../output_files/Lat_vs_Temp_plot.png\")\n",
    "\n",
    "#show plot\n",
    "plt.show()"
   ]
  },
  {
   "cell_type": "markdown",
   "metadata": {},
   "source": [
    "## Latitude vs. Humidity Plot"
   ]
  },
  {
   "cell_type": "code",
   "execution_count": 295,
   "metadata": {},
   "outputs": [
    {
     "data": {
      "image/png": "[encoded data removed]",
      "text/plain": [
       "<Figure size 432x288 with 1 Axes>"
      ]
     },
     "metadata": {
      "needs_background": "light"
     },
     "output_type": "display_data"
    }
   ],
   "source": [
    "#create scatter plot\n",
    "plt.scatter(clean_weatherdf[\"Lat\"], clean_weatherdf[\"Humidity\"], facecolor = \"gold\", edgecolor = \"black\")\n",
    "\n",
    "#pretty-up the plot - turn on grid, set axis labels, add title\n",
    "plt.grid()\n",
    "plt.xlabel(\"Latitude\")\n",
    "plt.ylabel(\"Humidity (%)\")\n",
    "plt.title(f\"Latitude vs. Humidity ({short_ts})\")\n",
    "\n",
    "#save as a png\n",
    "plt.savefig(\"../output_files/Lat_vs_Humidity_plot.png\")\n",
    "\n",
    "#show plot\n",
    "plt.show()"
   ]
  },
  {
   "cell_type": "markdown",
   "metadata": {},
   "source": [
    "## Latitude vs. Cloudiness Plot"
   ]
  },
  {
   "cell_type": "code",
   "execution_count": 296,
   "metadata": {},
   "outputs": [
    {
     "data": {
      "image/png": "[encoded data removed]",
      "text/plain": [
       "<Figure size 432x288 with 1 Axes>"
      ]
     },
     "metadata": {
      "needs_background": "light"
     },
     "output_type": "display_data"
    }
   ],
   "source": [
    "#create scatter plot\n",
    "plt.scatter(clean_weatherdf[\"Lat\"], clean_weatherdf[\"Cloudiness\"], facecolor = \"gold\", edgecolor = \"black\")\n",
    "\n",
    "#pretty-up the plot - turn on grid, set axis labels, add title\n",
    "plt.grid()\n",
    "plt.xlabel(\"Latitude\")\n",
    "plt.ylabel(\"Cloudiness (%)\")\n",
    "plt.title(f\"Latitude vs. Cloudiness ({short_ts})\")\n",
    "\n",
    "#save as a png\n",
    "plt.savefig(\"../output_files/Lat_vs_Cloudiness_plot.png\")\n",
    "\n",
    "#show plot\n",
    "plt.show()"
   ]
  },
  {
   "cell_type": "markdown",
   "metadata": {},
   "source": [
    "## Latitude vs. Wind Speed Plot"
   ]
  },
  {
   "cell_type": "code",
   "execution_count": 297,
   "metadata": {},
   "outputs": [
    {
     "data": {
      "image/png": "[encoded data removed]",
      "text/plain": [
       "<Figure size 432x288 with 1 Axes>"
      ]
     },
     "metadata": {
      "needs_background": "light"
     },
     "output_type": "display_data"
    }
   ],
   "source": [
    "#create scatter plot\n",
    "plt.scatter(clean_weatherdf[\"Lat\"], clean_weatherdf[\"Wind Speed\"], facecolor = \"gold\", edgecolor = \"black\")\n",
    "\n",
    "#pretty-up the plot - turn on grid, set axis labels, add title\n",
    "plt.grid()\n",
    "plt.xlabel(\"Latitude\")\n",
    "plt.ylabel(\"Wind Speed (mph)\")\n",
    "plt.title(f\"Latitude vs. Wind Speed ({short_ts})\")\n",
    "\n",
    "#save as a png\n",
    "plt.savefig(\"../output_files/Lat_vs_WindSpeed_plot.png\")\n",
    "\n",
    "#show plot\n",
    "plt.show()"
   ]
  },
  {
   "cell_type": "markdown",
   "metadata": {},
   "source": [
    "## Linear Regression"
   ]
  },
  {
   "cell_type": "code",
   "execution_count": 284,
   "metadata": {},
   "outputs": [],
   "source": [
    "#create linear regression equation\n",
    "def linreg(x,y):\n",
    "    (slope, intercept, rvalue, pvalue, stderr) = linregress(x,y)\n",
    "    regress_values = x * slope + intercept\n",
    "    line_eq = \"y = \" + str(round(slope,2)) + \"x + \" + str(round(intercept,2))\n",
    "    \n",
    "    #plot the graph and regression line\n",
    "    plt.scatter(x,y, facecolor=\"gold\", edgecolor=\"black\")\n",
    "    plt.plot(x,regress_values, \"k-\")\n",
    "    \n",
    "    #add line equation to plot, axis labels, title\n",
    "    plt.annotate(line_eq, (x.min(),y.min()), fontsize=15, color = \"black\")\n",
    "    plt.xlabel(\"Latitude\")\n",
    "    \n",
    "    #print r-squared\n",
    "    print(f\"The r-squared is: {rvalue}\")"
   ]
  },
  {
   "cell_type": "code",
   "execution_count": 285,
   "metadata": {},
   "outputs": [],
   "source": [
    "#create Northern and Southern Hemisphere dataframes\n",
    "NorthH = clean_weatherdf.loc[clean_weatherdf[\"Lat\"]>=0]\n",
    "SouthH = clean_weatherdf.loc[clean_weatherdf[\"Lat\"]<0]"
   ]
  },
  {
   "cell_type": "markdown",
   "metadata": {},
   "source": [
    "####  Northern Hemisphere - Max Temp vs. Latitude Linear Regression"
   ]
  },
  {
   "cell_type": "code",
   "execution_count": 286,
   "metadata": {
    "scrolled": true
   },
   "outputs": [
    {
     "name": "stdout",
     "output_type": "stream",
     "text": [
      "The r-squared is: -0.8668688538269551\n",
      "None\n"
     ]
    },
    {
     "data": {
      "image/png": "[encoded data removed]",
      "text/plain": [
       "<Figure size 432x288 with 1 Axes>"
      ]
     },
     "metadata": {
      "needs_background": "light"
     },
     "output_type": "display_data"
    }
   ],
   "source": [
    "#set x and y\n",
    "x = NorthH[\"Lat\"]\n",
    "y = NorthH[\"Max Temp\"]\n",
    "\n",
    "#set y label and title\n",
    "plt.ylabel(\"Max Temp (F)\")\n",
    "plt.title(\"Northern Hemisphere: Max Temp vs. Latitude - Linear Regression\")\n",
    "\n",
    "\n",
    "#save as a png\n",
    "plt.savefig(\"../output_files/NH_MaxTemp_Lat_plot.png\")\n",
    "\n",
    "#print equation line\n",
    "print(linreg(x,y))"
   ]
  },
  {
   "cell_type": "markdown",
   "metadata": {},
   "source": [
    "There is a strong negative correlation between latitude and max temp for the northern hemisphere"
   ]
  },
  {
   "cell_type": "markdown",
   "metadata": {},
   "source": [
    "####  Southern Hemisphere - Max Temp vs. Latitude Linear Regression"
   ]
  },
  {
   "cell_type": "code",
   "execution_count": 287,
   "metadata": {
    "scrolled": false
   },
   "outputs": [
    {
     "name": "stdout",
     "output_type": "stream",
     "text": [
      "The r-squared is: 0.45275418702051595\n",
      "None\n"
     ]
    },
    {
     "data": {
      "image/png": "[encoded data removed]",
      "text/plain": [
       "<Figure size 432x288 with 1 Axes>"
      ]
     },
     "metadata": {
      "needs_background": "light"
     },
     "output_type": "display_data"
    }
   ],
   "source": [
    "#set x and y\n",
    "x = SouthH[\"Lat\"]\n",
    "y = SouthH[\"Max Temp\"]\n",
    "\n",
    "#set y label and title\n",
    "plt.ylabel(\"Max Temp (F)\")\n",
    "plt.title(\"Southern Hemisphere: Max Temp vs. Latitude - Linear Regression\")\n",
    "\n",
    "#save as a png\n",
    "plt.savefig(\"../output_files/SH_MaxTemp_Lat_plot.png\")\n",
    "\n",
    "#print equation line\n",
    "print(linreg(x,y))"
   ]
  },
  {
   "cell_type": "markdown",
   "metadata": {},
   "source": [
    "There is a moderate positive correlation between latitude and max temp for the southern hemisphere"
   ]
  },
  {
   "cell_type": "markdown",
   "metadata": {},
   "source": [
    "####  Northern Hemisphere - Humidity (%) vs. Latitude Linear Regression"
   ]
  },
  {
   "cell_type": "code",
   "execution_count": 288,
   "metadata": {
    "scrolled": true
   },
   "outputs": [
    {
     "name": "stdout",
     "output_type": "stream",
     "text": [
      "The r-squared is: 0.3760783665514557\n",
      "None\n"
     ]
    },
    {
     "data": {
      "image/png": "[encoded data removed]",
      "text/plain": [
       "<Figure size 432x288 with 1 Axes>"
      ]
     },
     "metadata": {
      "needs_background": "light"
     },
     "output_type": "display_data"
    }
   ],
   "source": [
    "#set x and y\n",
    "x = NorthH[\"Lat\"]\n",
    "y = NorthH[\"Humidity\"]\n",
    "\n",
    "#set y label and title\n",
    "plt.ylabel(\"Humidity (%)\")\n",
    "plt.title(\"Northern Hemisphere: Humidity vs. Latitude - Linear Regression\")\n",
    "\n",
    "\n",
    "#save as a png\n",
    "plt.savefig(\"../output_files/NH_Humidity_Lat_plot.png\")\n",
    "\n",
    "#print equation line\n",
    "print(linreg(x,y))"
   ]
  },
  {
   "cell_type": "markdown",
   "metadata": {},
   "source": [
    "There is a moderate positive correlation between latitude and humidity for the northern hemisphere"
   ]
  },
  {
   "cell_type": "markdown",
   "metadata": {},
   "source": [
    "####  Southern Hemisphere - Humidity (%) vs. Latitude Linear Regression"
   ]
  },
  {
   "cell_type": "code",
   "execution_count": 289,
   "metadata": {
    "scrolled": true
   },
   "outputs": [
    {
     "name": "stdout",
     "output_type": "stream",
     "text": [
      "The r-squared is: 0.36093528543978926\n",
      "None\n"
     ]
    },
    {
     "data": {
      "image/png": "[encoded data removed]",
      "text/plain": [
       "<Figure size 432x288 with 1 Axes>"
      ]
     },
     "metadata": {
      "needs_background": "light"
     },
     "output_type": "display_data"
    }
   ],
   "source": [
    "#set x and y\n",
    "x = SouthH[\"Lat\"]\n",
    "y = SouthH[\"Humidity\"]\n",
    "\n",
    "#set y label and title\n",
    "plt.ylabel(\"Humidity (%)\")\n",
    "plt.title(\"Southern Hemisphere: Humidity vs. Latitude - Linear Regression\")\n",
    "\n",
    "\n",
    "#save as a png\n",
    "plt.savefig(\"../output_files/SH_Humidity_Lat_plot.png\")\n",
    "\n",
    "#print equation line\n",
    "print(linreg(x,y))"
   ]
  },
  {
   "cell_type": "markdown",
   "metadata": {},
   "source": [
    "There is a moderate positive correlation between latitude and humidity for the southern hemisphere"
   ]
  },
  {
   "cell_type": "markdown",
   "metadata": {},
   "source": [
    "####  Northern Hemisphere - Cloudiness (%) vs. Latitude Linear Regression"
   ]
  },
  {
   "cell_type": "code",
   "execution_count": 290,
   "metadata": {
    "scrolled": true
   },
   "outputs": [
    {
     "name": "stdout",
     "output_type": "stream",
     "text": [
      "The r-squared is: 0.37590888258577965\n",
      "None\n"
     ]
    },
    {
     "data": {
      "image/png": "[encoded data removed]",
      "text/plain": [
       "<Figure size 432x288 with 1 Axes>"
      ]
     },
     "metadata": {
      "needs_background": "light"
     },
     "output_type": "display_data"
    }
   ],
   "source": [
    "#set x and y\n",
    "x = NorthH[\"Lat\"]\n",
    "y = NorthH[\"Cloudiness\"]\n",
    "\n",
    "#set y label and title\n",
    "plt.ylabel(\"Cloudiness (%)\")\n",
    "plt.title(\"Northern Hemisphere: Cloudiness vs. Latitude - Linear Regression\")\n",
    "\n",
    "\n",
    "#save as a png\n",
    "plt.savefig(\"../output_files/NH_Cloudiness_Lat_plot.png\")\n",
    "\n",
    "#print equation line\n",
    "print(linreg(x,y))"
   ]
  },
  {
   "cell_type": "markdown",
   "metadata": {},
   "source": [
    "There is a moderate positive correlation between latitude and cloudiness for the moderate hemisphere"
   ]
  },
  {
   "cell_type": "markdown",
   "metadata": {},
   "source": [
    "####  Southern Hemisphere - Cloudiness (%) vs. Latitude Linear Regression"
   ]
  },
  {
   "cell_type": "code",
   "execution_count": 291,
   "metadata": {
    "scrolled": true
   },
   "outputs": [
    {
     "name": "stdout",
     "output_type": "stream",
     "text": [
      "The r-squared is: 0.3115244438590607\n",
      "None\n"
     ]
    },
    {
     "data": {
      "image/png": "[encoded data removed]",
      "text/plain": [
       "<Figure size 432x288 with 1 Axes>"
      ]
     },
     "metadata": {
      "needs_background": "light"
     },
     "output_type": "display_data"
    }
   ],
   "source": [
    "#set x and y\n",
    "x = SouthH[\"Lat\"]\n",
    "y = SouthH[\"Cloudiness\"]\n",
    "\n",
    "#set y label and title\n",
    "plt.ylabel(\"Cloudiness (%)\")\n",
    "plt.title(\"Southern Hemisphere: Cloudiness vs. Latitude - Linear Regression\")\n",
    "\n",
    "\n",
    "#save as a png\n",
    "plt.savefig(\"../output_files/SH_Cloudiness_Lat_plot.png\")\n",
    "\n",
    "#print equation line\n",
    "print(linreg(x,y))"
   ]
  },
  {
   "cell_type": "markdown",
   "metadata": {},
   "source": [
    "There is a moderate positive correlation between latitude and cloudiness for the southern hemisphere"
   ]
  },
  {
   "cell_type": "markdown",
   "metadata": {},
   "source": [
    "####  Northern Hemisphere - Wind Speed (mph) vs. Latitude Linear Regression"
   ]
  },
  {
   "cell_type": "code",
   "execution_count": 292,
   "metadata": {
    "scrolled": true
   },
   "outputs": [
    {
     "name": "stdout",
     "output_type": "stream",
     "text": [
      "The r-squared is: 0.1269332793201742\n",
      "None\n"
     ]
    },
    {
     "data": {
      "image/png": "[encoded data removed]",
      "text/plain": [
       "<Figure size 432x288 with 1 Axes>"
      ]
     },
     "metadata": {
      "needs_background": "light"
     },
     "output_type": "display_data"
    }
   ],
   "source": [
    "#set x and y\n",
    "x = NorthH[\"Lat\"]\n",
    "y = NorthH[\"Wind Speed\"]\n",
    "\n",
    "#set y label and title\n",
    "plt.ylabel(\"Wind Speed (mph)\")\n",
    "plt.title(\"Northern Hemisphere: Wind Speed vs. Latitude - Linear Regression\")\n",
    "\n",
    "\n",
    "#save as a png\n",
    "plt.savefig(\"../output_files/NH_WindSpeed_Lat_plot.png\")\n",
    "\n",
    "#print equation line\n",
    "print(linreg(x,y))"
   ]
  },
  {
   "cell_type": "markdown",
   "metadata": {},
   "source": [
    "There is a weak positive correlation between latitude and wind speed for the northern hemisphere"
   ]
  },
  {
   "cell_type": "markdown",
   "metadata": {},
   "source": [
    "####  Southern Hemisphere - Wind Speed (mph) vs. Latitude Linear Regression"
   ]
  },
  {
   "cell_type": "code",
   "execution_count": 293,
   "metadata": {
    "scrolled": true
   },
   "outputs": [
    {
     "name": "stdout",
     "output_type": "stream",
     "text": [
      "The r-squared is: -0.18595068334642248\n",
      "None\n"
     ]
    },
    {
     "data": {
      "image/png": "[encoded data removed]",
      "text/plain": [
       "<Figure size 432x288 with 1 Axes>"
      ]
     },
     "metadata": {
      "needs_background": "light"
     },
     "output_type": "display_data"
    }
   ],
   "source": [
    "#set x and y\n",
    "x = SouthH[\"Lat\"]\n",
    "y = SouthH[\"Wind Speed\"]\n",
    "\n",
    "#set y label and title\n",
    "plt.ylabel(\"Wind Speed (mph)\")\n",
    "plt.title(\"Southern Hemisphere: Wind Speed vs. Latitude - Linear Regression\")\n",
    "\n",
    "\n",
    "#save as a png\n",
    "plt.savefig(\"../output_files/SH_WindSpeed_Lat_plot.png\")\n",
    "\n",
    "#print equation line\n",
    "print(linreg(x,y))"
   ]
  },
  {
   "cell_type": "markdown",
   "metadata": {},
   "source": [
    "There is a weak negative correlation between latitude and wind speed for the southern hemisphere"
   ]
  }
 ],
 "metadata": {
  "anaconda-cloud": {},
  "kernel_info": {
   "name": "python3"
  },
  "kernelspec": {
   "display_name": "pythondata",
   "language": "python",
   "name": "pythondata"
  },
  "language_info": {
   "codemirror_mode": {
    "name": "ipython",
    "version": 3
   },
   "file_extension": ".py",
   "mimetype": "text/x-python",
   "name": "python",
   "nbconvert_exporter": "python",
   "pygments_lexer": "ipython3",
   "version": "3.8.8"
  },
  "latex_envs": {
   "LaTeX_envs_menu_present": true,
   "autoclose": false,
   "autocomplete": true,
   "bibliofile": "biblio.bib",
   "cite_by": "apalike",
   "current_citInitial": 1,
   "eqLabelWithNumbers": true,
   "eqNumInitial": 1,
   "hotkeys": {
    "equation": "Ctrl-E",
    "itemize": "Ctrl-I"
   },
   "labels_anchors": false,
   "latex_user_defs": false,
   "report_style_numbering": false,
   "user_envs_cfg": false
  },
  "nteract": {
   "version": "0.12.3"
  }
 },
 "nbformat": 4,
 "nbformat_minor": 2
}
